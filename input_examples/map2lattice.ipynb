{
 "cells": [
  {
   "cell_type": "code",
   "execution_count": 11,
   "metadata": {},
   "outputs": [],
   "source": [
    "from PIL import Image\n",
    "import numpy as np\n",
    "\n",
    "# Open the image file\n",
    "im = Image.open('map.png')\n",
    "\n",
    "im = im.resize((20, 20))\n",
    "# Convert the image to grayscale\n",
    "im = im.convert('L')\n",
    "\n",
    "# Convert the image to a NumPy array\n",
    "map_array = np.array(im)\n",
    "\n",
    "lim = np.mean(map_array)#120\n",
    "# thresholding the array to make it binary\n",
    "map_array[map_array < lim] = 1\n",
    "map_array[map_array >= lim] = 0\n",
    "\n",
    "np.savetxt('input_examples/mapa.txt',map_array,fmt='%.0f')\n"
   ]
  },
  {
   "cell_type": "code",
   "execution_count": 12,
   "metadata": {},
   "outputs": [
    {
     "data": {
      "image/png": "[encoded data removed]",
      "text/plain": [
       "<Figure size 640x480 with 2 Axes>"
      ]
     },
     "metadata": {},
     "output_type": "display_data"
    }
   ],
   "source": [
    "import matplotlib.pyplot as plt\n",
    "\n",
    "# Plot the lattice array using imshow()\n",
    "plt.imshow(map_array, cmap='binary')\n",
    "\n",
    "# Add a colorbar to the plot\n",
    "plt.colorbar()\n",
    "\n",
    "# Remove the axis labels\n",
    "plt.axis('off')\n",
    "\n",
    "# Display the plot\n",
    "plt.show()\n"
   ]
  }
 ],
 "metadata": {
  "kernelspec": {
   "display_name": "Python 3",
   "language": "python",
   "name": "python3"
  },
  "language_info": {
   "codemirror_mode": {
    "name": "ipython",
    "version": 3
   },
   "file_extension": ".py",
   "mimetype": "text/x-python",
   "name": "python",
   "nbconvert_exporter": "python",
   "pygments_lexer": "ipython3",
   "version": "3.10.7"
  },
  "orig_nbformat": 4,
  "vscode": {
   "interpreter": {
    "hash": "26de051ba29f2982a8de78e945f0abaf191376122a1563185a90213a26c5da77"
   }
  }
 },
 "nbformat": 4,
 "nbformat_minor": 2
}
